{
 "cells": [
  {
   "cell_type": "markdown",
   "metadata": {},
   "source": [
    "CODING CHALLENGE"
   ]
  },
  {
   "cell_type": "markdown",
   "metadata": {},
   "source": [
    "**Instructions**\n",
    "\n",
    "Consider this data set as the number of items you purchased this week:\n",
    "\n",
    "**_Week 1 = 19_**,\n",
    "**_Week 2 = 27_**,\n",
    "**_Week 3 = 17_**,\n",
    "**_Week 4 = 24_**,\n",
    "**_Week 5 = 16_**"
   ]
  },
  {
   "cell_type": "code",
   "execution_count": 9,
   "metadata": {},
   "outputs": [
    {
     "name": "stdout",
     "output_type": "stream",
     "text": [
      "Your average purchase this week is:  20.6\n"
     ]
    }
   ],
   "source": [
    "import array as arr\n",
    "\n",
    "def output_display():\n",
    "    print(\"Your average purchase this week is: \", get_ave(item))\n",
    "\n",
    "def get_ave(item):\n",
    "    total_items = sum(item)\n",
    "    no_of_items = len(item)\n",
    "    m = total_items / no_of_items\n",
    "    return m\n",
    "\n",
    "purchased_items = [19, 27, 17, 24, 16]\n",
    "\n",
    "sample_data = arr.array(\"i\", purchased_items)\n",
    "item = sample_data[0:5]\n",
    "sample_data_list = item.tolist()\n",
    "\n",
    "output_display()"
   ]
  }
 ],
 "metadata": {
  "interpreter": {
   "hash": "aee8b7b246df8f9039afb4144a1f6fd8d2ca17a180786b69acc140d282b71a49"
  },
  "kernelspec": {
   "display_name": "Python 3.9.1 64-bit",
   "language": "python",
   "name": "python3"
  },
  "language_info": {
   "codemirror_mode": {
    "name": "ipython",
    "version": 3
   },
   "file_extension": ".py",
   "mimetype": "text/x-python",
   "name": "python",
   "nbconvert_exporter": "python",
   "pygments_lexer": "ipython3",
   "version": "3.9.1"
  },
  "orig_nbformat": 4
 },
 "nbformat": 4,
 "nbformat_minor": 2
}
