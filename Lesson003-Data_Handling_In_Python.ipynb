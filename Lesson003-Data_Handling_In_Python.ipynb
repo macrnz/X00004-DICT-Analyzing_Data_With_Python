{
 "cells": [
  {
   "cell_type": "markdown",
   "metadata": {},
   "source": [
    "**Handling Data**"
   ]
  },
  {
   "cell_type": "markdown",
   "metadata": {},
   "source": [
    "**Creating a Pandas Series**\n",
    "Series is a one-dimentional object."
   ]
  },
  {
   "cell_type": "code",
   "execution_count": null,
   "metadata": {},
   "outputs": [],
   "source": [
    "#Creating a Series by passing in a list:\n",
    "\n",
    "import pandas as pd\n",
    "\n",
    "items = pd.Series([\"chairs\", \"tables\", \"labels\"])\n",
    "items"
   ]
  },
  {
   "cell_type": "code",
   "execution_count": null,
   "metadata": {},
   "outputs": [],
   "source": [
    "#Creating a Series by passing in a list with the Index:\n",
    "\n",
    "import pandas as pd\n",
    "\n",
    "items = pd.Series([\"chairs\", \"tables\", \"labels\"], index = [\"OR 001\", \"OR 002\", \"OR 003\"])\n",
    "items"
   ]
  },
  {
   "cell_type": "markdown",
   "metadata": {},
   "source": [
    "**Creating a DataFrame**"
   ]
  },
  {
   "cell_type": "markdown",
   "metadata": {},
   "source": [
    "DataFrame is like an Excel table, it is a data structure in a table format comprised of rows and columns."
   ]
  },
  {
   "cell_type": "code",
   "execution_count": null,
   "metadata": {},
   "outputs": [],
   "source": [
    "import pandas as pd\n",
    "\n",
    "dframe = {\"Name\": [\"Joe\", \"Tom\", \"Jane\"], \"Items\": [\"chairs\", \"labels\", \"tables\"]}\n",
    "\n",
    "purchases = pd.DataFrame(dframe)\n",
    "purchases"
   ]
  },
  {
   "cell_type": "markdown",
   "metadata": {},
   "source": [
    "**Loading a CSV file into a DataFrame and basic methods for investigating/viewing a DataFrame**"
   ]
  },
  {
   "cell_type": "code",
   "execution_count": null,
   "metadata": {},
   "outputs": [],
   "source": [
    "import pandas as pd\n",
    "\n",
    "mdata = pd.read_csv(\"Marketing.csv\")\n",
    "\n",
    "#Runs the first 5 rows\n",
    "mdata.head()\n",
    "\n",
    "#Runs the number of rows you select\n",
    "mdata.head(10)\n",
    "\n",
    "#Displays the last 5 rows\n",
    "mdata.tail()\n",
    "\n",
    "#Displays the last N number of rows\n",
    "mdata.tail(2)\n",
    "\n",
    "#Displays the first 5 rows and the information of the DataFrame\n",
    "mdata.info()\n",
    "mdata.head()\n",
    "\n",
    "#Displays the shape, number of columns and rows in the data\n",
    "mdata.shape"
   ]
  }
 ],
 "metadata": {
  "interpreter": {
   "hash": "aee8b7b246df8f9039afb4144a1f6fd8d2ca17a180786b69acc140d282b71a49"
  },
  "kernelspec": {
   "display_name": "Python 3.9.1 64-bit",
   "language": "python",
   "name": "python3"
  },
  "language_info": {
   "codemirror_mode": {
    "name": "ipython",
    "version": 3
   },
   "file_extension": ".py",
   "mimetype": "text/x-python",
   "name": "python",
   "nbconvert_exporter": "python",
   "pygments_lexer": "ipython3",
   "version": "3.9.1"
  },
  "orig_nbformat": 4
 },
 "nbformat": 4,
 "nbformat_minor": 2
}
